{
 "cells": [
  {
   "cell_type": "code",
   "execution_count": 1,
   "metadata": {},
   "outputs": [
    {
     "name": "stdout",
     "output_type": "stream",
     "text": [
      "DocQuery1.txt                        NYTScrapper.ipynb\r\n",
      "DocQuery2.txt                        ProcessDataForWordCooccurance.ipynb\r\n",
      "DocQuery3.txt                        \u001b[34mURLS\u001b[m\u001b[m/\r\n",
      "DocQuery4.txt\r\n"
     ]
    }
   ],
   "source": [
    "ls"
   ]
  },
  {
   "cell_type": "code",
   "execution_count": 4,
   "metadata": {},
   "outputs": [],
   "source": [
    "import sys\n",
    "import nltk\n",
    "import re\n",
    "from nltk.tokenize import sent_tokenize, word_tokenize, RegexpTokenizer\n",
    "import io"
   ]
  },
  {
   "cell_type": "code",
   "execution_count": 5,
   "metadata": {},
   "outputs": [],
   "source": [
    "with io.open('/Users/abhavluthra/Desktop/DIC/Lab2/NYTData/DocQuery1.txt', \"r\", encoding='utf-8') as f:\n",
    "    articles = f.readlines()"
   ]
  },
  {
   "cell_type": "code",
   "execution_count": 10,
   "metadata": {},
   "outputs": [],
   "source": [
    "fullarticle = []\n",
    "for article in articles:\n",
    "    lines = nltk.sent_tokenize(article)\n",
    "    for line in lines:\n",
    "        fullarticle.append(line)"
   ]
  },
  {
   "cell_type": "code",
   "execution_count": 11,
   "metadata": {},
   "outputs": [
    {
     "data": {
      "text/plain": [
       "19622"
      ]
     },
     "execution_count": 11,
     "metadata": {},
     "output_type": "execute_result"
    }
   ],
   "source": [
    "len(fullarticle)"
   ]
  },
  {
   "cell_type": "code",
   "execution_count": 12,
   "metadata": {},
   "outputs": [],
   "source": [
    "with open('/Users/abhavluthra/Desktop/DIC/Lab2/NYTData/ProcessedForCo/BorderWall.txt', 'w') as f:\n",
    "    for item in fullarticle:\n",
    "        f.write(\"%s\\n\" % item)"
   ]
  },
  {
   "cell_type": "code",
   "execution_count": 13,
   "metadata": {},
   "outputs": [],
   "source": [
    "with io.open('/Users/abhavluthra/Desktop/DIC/Lab2/NYTData/DocQuery2.txt', \"r\", encoding='utf-8') as f:\n",
    "    articles = f.readlines()"
   ]
  },
  {
   "cell_type": "code",
   "execution_count": 14,
   "metadata": {},
   "outputs": [],
   "source": [
    "fullarticle = []\n",
    "for article in articles:\n",
    "    lines = nltk.sent_tokenize(article)\n",
    "    for line in lines:\n",
    "        fullarticle.append(line)"
   ]
  },
  {
   "cell_type": "code",
   "execution_count": 15,
   "metadata": {},
   "outputs": [
    {
     "data": {
      "text/plain": [
       "31736"
      ]
     },
     "execution_count": 15,
     "metadata": {},
     "output_type": "execute_result"
    }
   ],
   "source": [
    "len(fullarticle)"
   ]
  },
  {
   "cell_type": "code",
   "execution_count": 16,
   "metadata": {},
   "outputs": [],
   "source": [
    "with open('/Users/abhavluthra/Desktop/DIC/Lab2/NYTData/ProcessedForCo/Immigrant.txt', 'w') as f:\n",
    "    for item in fullarticle:\n",
    "        f.write(\"%s\\n\" % item)"
   ]
  },
  {
   "cell_type": "code",
   "execution_count": 17,
   "metadata": {},
   "outputs": [],
   "source": [
    "with io.open('/Users/abhavluthra/Desktop/DIC/Lab2/NYTData/DocQuery3.txt', \"r\", encoding='utf-8') as f:\n",
    "    articles = f.readlines()"
   ]
  },
  {
   "cell_type": "code",
   "execution_count": 18,
   "metadata": {},
   "outputs": [],
   "source": [
    "fullarticle = []\n",
    "for article in articles:\n",
    "    lines = nltk.sent_tokenize(article)\n",
    "    for line in lines:\n",
    "        fullarticle.append(line)"
   ]
  },
  {
   "cell_type": "code",
   "execution_count": 19,
   "metadata": {},
   "outputs": [
    {
     "data": {
      "text/plain": [
       "6703"
      ]
     },
     "execution_count": 19,
     "metadata": {},
     "output_type": "execute_result"
    }
   ],
   "source": [
    "len(fullarticle)"
   ]
  },
  {
   "cell_type": "code",
   "execution_count": 21,
   "metadata": {},
   "outputs": [],
   "source": [
    "with open('/Users/abhavluthra/Desktop/DIC/Lab2/NYTData/ProcessedForCo/BuildWall.txt', 'w') as f:\n",
    "    for item in fullarticle:\n",
    "        f.write(\"%s\\n\" % item)"
   ]
  },
  {
   "cell_type": "code",
   "execution_count": 22,
   "metadata": {},
   "outputs": [],
   "source": [
    "with io.open('/Users/abhavluthra/Desktop/DIC/Lab2/NYTData/DocQuery4.txt', \"r\", encoding='utf-8') as f:\n",
    "    articles = f.readlines()"
   ]
  },
  {
   "cell_type": "code",
   "execution_count": 23,
   "metadata": {},
   "outputs": [],
   "source": [
    "fullarticle = []\n",
    "for article in articles:\n",
    "    lines = nltk.sent_tokenize(article)\n",
    "    for line in lines:\n",
    "        fullarticle.append(line)"
   ]
  },
  {
   "cell_type": "code",
   "execution_count": 24,
   "metadata": {},
   "outputs": [
    {
     "data": {
      "text/plain": [
       "5601"
      ]
     },
     "execution_count": 24,
     "metadata": {},
     "output_type": "execute_result"
    }
   ],
   "source": [
    "len(fullarticle)"
   ]
  },
  {
   "cell_type": "code",
   "execution_count": 25,
   "metadata": {},
   "outputs": [],
   "source": [
    "with open('/Users/abhavluthra/Desktop/DIC/Lab2/NYTData/ProcessedForCo/MexicoBorder.txt', 'w') as f:\n",
    "    for item in fullarticle:\n",
    "        f.write(\"%s\\n\" % item)"
   ]
  }
 ],
 "metadata": {
  "kernelspec": {
   "display_name": "Python 3",
   "language": "python",
   "name": "python3"
  },
  "language_info": {
   "codemirror_mode": {
    "name": "ipython",
    "version": 3
   },
   "file_extension": ".py",
   "mimetype": "text/x-python",
   "name": "python",
   "nbconvert_exporter": "python",
   "pygments_lexer": "ipython3",
   "version": "3.7.2"
  }
 },
 "nbformat": 4,
 "nbformat_minor": 2
}
