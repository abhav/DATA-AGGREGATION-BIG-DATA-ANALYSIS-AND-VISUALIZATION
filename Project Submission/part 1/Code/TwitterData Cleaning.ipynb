{
 "cells": [
  {
   "cell_type": "markdown",
   "metadata": {},
   "source": [
    "### First Query - Border Wall"
   ]
  },
  {
   "cell_type": "code",
   "execution_count": 7,
   "metadata": {},
   "outputs": [],
   "source": [
    "BorderWall1 <- read.csv(\"borderWallTweets1.csv\", header=T)"
   ]
  },
  {
   "cell_type": "code",
   "execution_count": 8,
   "metadata": {},
   "outputs": [],
   "source": [
    "BorderWall2 <- read.csv(\"borderWallTweets2.csv\", header=T)"
   ]
  },
  {
   "cell_type": "code",
   "execution_count": 12,
   "metadata": {},
   "outputs": [],
   "source": [
    "BorderWall <- rbind(BorderWall1, BorderWall2)"
   ]
  },
  {
   "cell_type": "code",
   "execution_count": 13,
   "metadata": {},
   "outputs": [
    {
     "data": {
      "text/html": [
       "27449"
      ],
      "text/latex": [
       "27449"
      ],
      "text/markdown": [
       "27449"
      ],
      "text/plain": [
       "[1] 27449"
      ]
     },
     "metadata": {},
     "output_type": "display_data"
    }
   ],
   "source": [
    "nrow(BorderWall)"
   ]
  },
  {
   "cell_type": "code",
   "execution_count": 14,
   "metadata": {},
   "outputs": [],
   "source": [
    "BorderWall <- BorderWall[BorderWall$is_retweet == 'FALSE',]"
   ]
  },
  {
   "cell_type": "code",
   "execution_count": 15,
   "metadata": {},
   "outputs": [
    {
     "data": {
      "text/html": [
       "5632"
      ],
      "text/latex": [
       "5632"
      ],
      "text/markdown": [
       "5632"
      ],
      "text/plain": [
       "[1] 5632"
      ]
     },
     "metadata": {},
     "output_type": "display_data"
    }
   ],
   "source": [
    "nrow(BorderWall)"
   ]
  },
  {
   "cell_type": "code",
   "execution_count": 16,
   "metadata": {},
   "outputs": [],
   "source": [
    "data = as.data.frame(BorderWall$text)"
   ]
  },
  {
   "cell_type": "code",
   "execution_count": 17,
   "metadata": {},
   "outputs": [],
   "source": [
    "write.table(data,\"BorderWall.txt\",sep=\"\\n\",row.names=FALSE)"
   ]
  },
  {
   "cell_type": "markdown",
   "metadata": {},
   "source": [
    "### Second Query - Build that Wall"
   ]
  },
  {
   "cell_type": "code",
   "execution_count": 18,
   "metadata": {},
   "outputs": [],
   "source": [
    "BuildWall1 <- read.csv(\"buildthatwallTweets1.csv\", header=T)"
   ]
  },
  {
   "cell_type": "code",
   "execution_count": 19,
   "metadata": {},
   "outputs": [],
   "source": [
    "BuildWall2 <- read.csv(\"buildthatwallTweets2.csv\", header=T)"
   ]
  },
  {
   "cell_type": "code",
   "execution_count": 20,
   "metadata": {},
   "outputs": [],
   "source": [
    "BuildWall <- rbind(BuildWall1, BuildWall2)"
   ]
  },
  {
   "cell_type": "code",
   "execution_count": 21,
   "metadata": {},
   "outputs": [
    {
     "data": {
      "text/html": [
       "32198"
      ],
      "text/latex": [
       "32198"
      ],
      "text/markdown": [
       "32198"
      ],
      "text/plain": [
       "[1] 32198"
      ]
     },
     "metadata": {},
     "output_type": "display_data"
    }
   ],
   "source": [
    "nrow(BuildWall)"
   ]
  },
  {
   "cell_type": "code",
   "execution_count": 22,
   "metadata": {},
   "outputs": [],
   "source": [
    "BuildWall <- BuildWall[BuildWall$is_retweet == 'FALSE',]"
   ]
  },
  {
   "cell_type": "code",
   "execution_count": 23,
   "metadata": {},
   "outputs": [
    {
     "data": {
      "text/html": [
       "5452"
      ],
      "text/latex": [
       "5452"
      ],
      "text/markdown": [
       "5452"
      ],
      "text/plain": [
       "[1] 5452"
      ]
     },
     "metadata": {},
     "output_type": "display_data"
    }
   ],
   "source": [
    "nrow(BuildWall)"
   ]
  },
  {
   "cell_type": "code",
   "execution_count": 24,
   "metadata": {},
   "outputs": [],
   "source": [
    "data = as.data.frame(BuildWall$text)"
   ]
  },
  {
   "cell_type": "code",
   "execution_count": 25,
   "metadata": {},
   "outputs": [
    {
     "name": "stderr",
     "output_type": "stream",
     "text": [
      "Warning message in write.table(data, \"BuildWall.txt\", sep = \"\\n\", row.names = FALSE, :\n",
      "“appending column names to file”"
     ]
    }
   ],
   "source": [
    "write.table(data,\"BuildWall.txt\",sep=\"\\n\",row.names=FALSE, append = TRUE)"
   ]
  },
  {
   "cell_type": "code",
   "execution_count": 26,
   "metadata": {},
   "outputs": [],
   "source": [
    "BuildWall1 <- read.csv(\"buildthewallTweets1.csv\", header=T)"
   ]
  },
  {
   "cell_type": "code",
   "execution_count": 27,
   "metadata": {},
   "outputs": [],
   "source": [
    "BuildWall2 <- read.csv(\"buildthewallTweets2.csv\", header=T)"
   ]
  },
  {
   "cell_type": "code",
   "execution_count": 28,
   "metadata": {},
   "outputs": [],
   "source": [
    "BuildWall <- rbind(BuildWall1, BuildWall2)"
   ]
  },
  {
   "cell_type": "code",
   "execution_count": 29,
   "metadata": {},
   "outputs": [
    {
     "data": {
      "text/html": [
       "26556"
      ],
      "text/latex": [
       "26556"
      ],
      "text/markdown": [
       "26556"
      ],
      "text/plain": [
       "[1] 26556"
      ]
     },
     "metadata": {},
     "output_type": "display_data"
    }
   ],
   "source": [
    "nrow(BuildWall)"
   ]
  },
  {
   "cell_type": "code",
   "execution_count": 30,
   "metadata": {},
   "outputs": [],
   "source": [
    "BuildWall <- BuildWall[BuildWall$is_retweet == 'FALSE',]"
   ]
  },
  {
   "cell_type": "code",
   "execution_count": 31,
   "metadata": {},
   "outputs": [
    {
     "data": {
      "text/html": [
       "7480"
      ],
      "text/latex": [
       "7480"
      ],
      "text/markdown": [
       "7480"
      ],
      "text/plain": [
       "[1] 7480"
      ]
     },
     "metadata": {},
     "output_type": "display_data"
    }
   ],
   "source": [
    "nrow(BuildWall)"
   ]
  },
  {
   "cell_type": "code",
   "execution_count": 32,
   "metadata": {},
   "outputs": [],
   "source": [
    "data = as.data.frame(BuildWall$text)"
   ]
  },
  {
   "cell_type": "code",
   "execution_count": 33,
   "metadata": {},
   "outputs": [
    {
     "name": "stderr",
     "output_type": "stream",
     "text": [
      "Warning message in write.table(data, \"BuildWall.txt\", sep = \"\\n\", row.names = FALSE, :\n",
      "“appending column names to file”"
     ]
    }
   ],
   "source": [
    "write.table(data,\"BuildWall.txt\",sep=\"\\n\",row.names=FALSE, append = TRUE)"
   ]
  },
  {
   "cell_type": "markdown",
   "metadata": {},
   "source": [
    "### Third Query - Mexico Border"
   ]
  },
  {
   "cell_type": "code",
   "execution_count": 34,
   "metadata": {},
   "outputs": [],
   "source": [
    "MexcioBorder1 <- read.csv(\"mexicoborderTweets1.csv\")"
   ]
  },
  {
   "cell_type": "code",
   "execution_count": 35,
   "metadata": {},
   "outputs": [],
   "source": [
    "MexcioBorder2 <- read.csv(\"mexicoborderTweets2.csv\")"
   ]
  },
  {
   "cell_type": "code",
   "execution_count": 36,
   "metadata": {},
   "outputs": [],
   "source": [
    "MexcioBorder <- rbind(MexcioBorder1, MexcioBorder2)"
   ]
  },
  {
   "cell_type": "code",
   "execution_count": 37,
   "metadata": {},
   "outputs": [
    {
     "data": {
      "text/html": [
       "28937"
      ],
      "text/latex": [
       "28937"
      ],
      "text/markdown": [
       "28937"
      ],
      "text/plain": [
       "[1] 28937"
      ]
     },
     "metadata": {},
     "output_type": "display_data"
    }
   ],
   "source": [
    "nrow(MexcioBorder)"
   ]
  },
  {
   "cell_type": "code",
   "execution_count": 38,
   "metadata": {},
   "outputs": [],
   "source": [
    "MexcioBorder <- MexcioBorder[MexcioBorder$is_retweet == 'FALSE',]"
   ]
  },
  {
   "cell_type": "code",
   "execution_count": 39,
   "metadata": {},
   "outputs": [
    {
     "data": {
      "text/html": [
       "1721"
      ],
      "text/latex": [
       "1721"
      ],
      "text/markdown": [
       "1721"
      ],
      "text/plain": [
       "[1] 1721"
      ]
     },
     "metadata": {},
     "output_type": "display_data"
    }
   ],
   "source": [
    "nrow(MexcioBorder)"
   ]
  },
  {
   "cell_type": "code",
   "execution_count": 40,
   "metadata": {},
   "outputs": [],
   "source": [
    "data = as.data.frame(MexcioBorder$text)"
   ]
  },
  {
   "cell_type": "code",
   "execution_count": 41,
   "metadata": {},
   "outputs": [
    {
     "name": "stderr",
     "output_type": "stream",
     "text": [
      "Warning message in write.table(data, \"MexcioBorder.txt\", sep = \"\\n\", row.names = FALSE, :\n",
      "“appending column names to file”"
     ]
    }
   ],
   "source": [
    "write.table(data,\"MexcioBorder.txt\",sep=\"\\n\",row.names=FALSE, append = TRUE)"
   ]
  },
  {
   "cell_type": "markdown",
   "metadata": {},
   "source": [
    "### Fourth Query - Immigrants"
   ]
  },
  {
   "cell_type": "code",
   "execution_count": 42,
   "metadata": {},
   "outputs": [],
   "source": [
    "Immigrants1 <- read.csv(\"immigrantsTweets1.csv\")"
   ]
  },
  {
   "cell_type": "code",
   "execution_count": 43,
   "metadata": {},
   "outputs": [],
   "source": [
    "Immigrants2 <- read.csv(\"immigrantsTweets2.csv\")"
   ]
  },
  {
   "cell_type": "code",
   "execution_count": 44,
   "metadata": {},
   "outputs": [],
   "source": [
    "Immigrants <- rbind(Immigrants1, Immigrants2)"
   ]
  },
  {
   "cell_type": "code",
   "execution_count": 45,
   "metadata": {},
   "outputs": [
    {
     "data": {
      "text/html": [
       "33345"
      ],
      "text/latex": [
       "33345"
      ],
      "text/markdown": [
       "33345"
      ],
      "text/plain": [
       "[1] 33345"
      ]
     },
     "metadata": {},
     "output_type": "display_data"
    }
   ],
   "source": [
    "nrow(Immigrants)"
   ]
  },
  {
   "cell_type": "code",
   "execution_count": 46,
   "metadata": {},
   "outputs": [],
   "source": [
    "Immigrants <- Immigrants[Immigrants$is_retweet == 'FALSE',]"
   ]
  },
  {
   "cell_type": "code",
   "execution_count": 47,
   "metadata": {},
   "outputs": [
    {
     "data": {
      "text/html": [
       "7246"
      ],
      "text/latex": [
       "7246"
      ],
      "text/markdown": [
       "7246"
      ],
      "text/plain": [
       "[1] 7246"
      ]
     },
     "metadata": {},
     "output_type": "display_data"
    }
   ],
   "source": [
    "nrow(Immigrants)"
   ]
  },
  {
   "cell_type": "code",
   "execution_count": 48,
   "metadata": {},
   "outputs": [],
   "source": [
    "data = as.data.frame(Immigrants$text)"
   ]
  },
  {
   "cell_type": "code",
   "execution_count": 49,
   "metadata": {},
   "outputs": [
    {
     "name": "stderr",
     "output_type": "stream",
     "text": [
      "Warning message in write.table(data, \"Immigrants.txt\", sep = \"\\n\", row.names = FALSE, :\n",
      "“appending column names to file”"
     ]
    }
   ],
   "source": [
    "write.table(data,\"Immigrants.txt\",sep=\"\\n\",row.names=FALSE, append = TRUE)"
   ]
  },
  {
   "cell_type": "markdown",
   "metadata": {},
   "source": [
    "### Fifth Query - Finish that Wall"
   ]
  },
  {
   "cell_type": "code",
   "execution_count": 50,
   "metadata": {},
   "outputs": [],
   "source": [
    "FinishWall1 <- read.csv(\"finishthatwallTweets1.csv\")"
   ]
  },
  {
   "cell_type": "code",
   "execution_count": 51,
   "metadata": {},
   "outputs": [],
   "source": [
    "FinishWall2 <- read.csv(\"finishthatwallTweets2.csv\")"
   ]
  },
  {
   "cell_type": "code",
   "execution_count": 52,
   "metadata": {},
   "outputs": [],
   "source": [
    "FinishWall <- rbind(FinishWall1, FinishWall2)"
   ]
  },
  {
   "cell_type": "code",
   "execution_count": 53,
   "metadata": {},
   "outputs": [
    {
     "data": {
      "text/html": [
       "664"
      ],
      "text/latex": [
       "664"
      ],
      "text/markdown": [
       "664"
      ],
      "text/plain": [
       "[1] 664"
      ]
     },
     "metadata": {},
     "output_type": "display_data"
    }
   ],
   "source": [
    "nrow(FinishWall)"
   ]
  },
  {
   "cell_type": "code",
   "execution_count": 54,
   "metadata": {},
   "outputs": [],
   "source": [
    "FinishWall <- FinishWall[FinishWall$is_retweet == 'FALSE',]"
   ]
  },
  {
   "cell_type": "code",
   "execution_count": 55,
   "metadata": {},
   "outputs": [
    {
     "data": {
      "text/html": [
       "325"
      ],
      "text/latex": [
       "325"
      ],
      "text/markdown": [
       "325"
      ],
      "text/plain": [
       "[1] 325"
      ]
     },
     "metadata": {},
     "output_type": "display_data"
    }
   ],
   "source": [
    "nrow(FinishWall)"
   ]
  },
  {
   "cell_type": "code",
   "execution_count": 56,
   "metadata": {},
   "outputs": [],
   "source": [
    "data = as.data.frame(FinishWall$text)"
   ]
  },
  {
   "cell_type": "code",
   "execution_count": 57,
   "metadata": {},
   "outputs": [
    {
     "name": "stderr",
     "output_type": "stream",
     "text": [
      "Warning message in write.table(data, \"FinishWall.txt\", sep = \"\\n\", row.names = FALSE, :\n",
      "“appending column names to file”"
     ]
    }
   ],
   "source": [
    "write.table(data,\"FinishWall.txt\",sep=\"\\n\",row.names=FALSE, append = TRUE)"
   ]
  },
  {
   "cell_type": "code",
   "execution_count": 58,
   "metadata": {},
   "outputs": [],
   "source": [
    "FinishWall1 <- read.csv(\"finishthewallTweets1.csv\")"
   ]
  },
  {
   "cell_type": "code",
   "execution_count": 59,
   "metadata": {},
   "outputs": [],
   "source": [
    "FinishWall2 <- read.csv(\"finishthewallTweets2.csv\")"
   ]
  },
  {
   "cell_type": "code",
   "execution_count": 60,
   "metadata": {},
   "outputs": [],
   "source": [
    "FinishWall <- rbind(FinishWall1, FinishWall2)"
   ]
  },
  {
   "cell_type": "code",
   "execution_count": 61,
   "metadata": {},
   "outputs": [
    {
     "data": {
      "text/html": [
       "3583"
      ],
      "text/latex": [
       "3583"
      ],
      "text/markdown": [
       "3583"
      ],
      "text/plain": [
       "[1] 3583"
      ]
     },
     "metadata": {},
     "output_type": "display_data"
    }
   ],
   "source": [
    "nrow(FinishWall)"
   ]
  },
  {
   "cell_type": "code",
   "execution_count": 62,
   "metadata": {},
   "outputs": [],
   "source": [
    "FinishWall <- FinishWall[FinishWall$is_retweet == 'FALSE',]"
   ]
  },
  {
   "cell_type": "code",
   "execution_count": 63,
   "metadata": {},
   "outputs": [
    {
     "data": {
      "text/html": [
       "1360"
      ],
      "text/latex": [
       "1360"
      ],
      "text/markdown": [
       "1360"
      ],
      "text/plain": [
       "[1] 1360"
      ]
     },
     "metadata": {},
     "output_type": "display_data"
    }
   ],
   "source": [
    "nrow(FinishWall)"
   ]
  },
  {
   "cell_type": "code",
   "execution_count": 64,
   "metadata": {},
   "outputs": [],
   "source": [
    "data = as.data.frame(FinishWall$text)"
   ]
  },
  {
   "cell_type": "code",
   "execution_count": 65,
   "metadata": {},
   "outputs": [
    {
     "name": "stderr",
     "output_type": "stream",
     "text": [
      "Warning message in write.table(data, \"FinishWall.txt\", sep = \"\\n\", row.names = FALSE, :\n",
      "“appending column names to file”"
     ]
    }
   ],
   "source": [
    "write.table(data,\"FinishWall.txt\",sep=\"\\n\",row.names=FALSE, append = TRUE)"
   ]
  }
 ],
 "metadata": {
  "kernelspec": {
   "display_name": "R",
   "language": "R",
   "name": "ir"
  },
  "language_info": {
   "codemirror_mode": "r",
   "file_extension": ".r",
   "mimetype": "text/x-r-source",
   "name": "R",
   "pygments_lexer": "r",
   "version": "3.5.1"
  }
 },
 "nbformat": 4,
 "nbformat_minor": 2
}
