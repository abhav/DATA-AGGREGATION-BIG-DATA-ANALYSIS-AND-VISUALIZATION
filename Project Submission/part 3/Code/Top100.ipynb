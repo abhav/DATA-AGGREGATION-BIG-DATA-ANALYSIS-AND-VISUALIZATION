{
 "cells": [
  {
   "cell_type": "code",
   "execution_count": 1,
   "metadata": {},
   "outputs": [],
   "source": [
    "import pandas as pd  "
   ]
  },
  {
   "cell_type": "code",
   "execution_count": 2,
   "metadata": {},
   "outputs": [
    {
     "name": "stdout",
     "output_type": "stream",
     "text": [
      "Untitled.ipynb      nyt_Immigrantc.csv  tw_BorderWallc.csv  tw_Immigrantc.csv\r\n",
      "nytBorderWallc.csv  nyt_mexicoc.csv     tw_BuildWallc.csv   tw_mexicoc.csv\r\n",
      "nyt_BuildWallc.csv  nytc.csv            tw_FinishWallc.csv  twitterc.csv\r\n"
     ]
    }
   ],
   "source": [
    "ls"
   ]
  },
  {
   "cell_type": "code",
   "execution_count": 3,
   "metadata": {},
   "outputs": [],
   "source": [
    "data = pd.read_csv(\"nyt_Immigrantc.csv\") \n",
    "data = data.sort_values(by=['Count'], ascending=False)\n",
    "data = data[:100]\n",
    "data.to_csv('NYT_I.csv', index=False)"
   ]
  },
  {
   "cell_type": "code",
   "execution_count": 4,
   "metadata": {},
   "outputs": [],
   "source": [
    "data = pd.read_csv(\"tw_BuildWallc.csv\") \n",
    "data = data.sort_values(by=['Count'], ascending=False)\n",
    "data = data[:100]\n",
    "data.to_csv('TW_BUW.csv', index=False)"
   ]
  },
  {
   "cell_type": "code",
   "execution_count": 5,
   "metadata": {},
   "outputs": [],
   "source": [
    "data = pd.read_csv(\"twitterc.csv\") \n",
    "data = data.sort_values(by=['Count'], ascending=False)\n",
    "data = data[:100]\n",
    "data.to_csv('TW.csv', index=False)"
   ]
  },
  {
   "cell_type": "code",
   "execution_count": 6,
   "metadata": {},
   "outputs": [],
   "source": [
    "data = pd.read_csv(\"nytBorderWallc.csv\") \n",
    "data = data.sort_values(by=['Count'], ascending=False)\n",
    "data = data[:100]\n",
    "data.to_csv('NYT_BW.csv', index=False)"
   ]
  },
  {
   "cell_type": "code",
   "execution_count": 7,
   "metadata": {},
   "outputs": [],
   "source": [
    "data = pd.read_csv(\"nyt_mexicoc.csv\") \n",
    "data = data.sort_values(by=['Count'], ascending=False)\n",
    "data = data[:100]\n",
    "data.to_csv('NYT_MB.csv', index=False)"
   ]
  },
  {
   "cell_type": "code",
   "execution_count": 8,
   "metadata": {},
   "outputs": [],
   "source": [
    "data = pd.read_csv(\"tw_FinishWallc.csv\") \n",
    "data = data.sort_values(by=['Count'], ascending=False)\n",
    "data = data[:100]\n",
    "data.to_csv('TW_FW.csv', index=False)"
   ]
  },
  {
   "cell_type": "code",
   "execution_count": 9,
   "metadata": {},
   "outputs": [],
   "source": [
    "data = pd.read_csv(\"nytc.csv\") \n",
    "data = data.sort_values(by=['Count'], ascending=False)\n",
    "data = data[:100]\n",
    "data.to_csv('NYT.csv', index=False)"
   ]
  },
  {
   "cell_type": "code",
   "execution_count": 10,
   "metadata": {},
   "outputs": [],
   "source": [
    "data = pd.read_csv(\"tw_Immigrantc.csv\") \n",
    "data = data.sort_values(by=['Count'], ascending=False)\n",
    "data = data[:100]\n",
    "data.to_csv('TW_I.csv', index=False)"
   ]
  },
  {
   "cell_type": "code",
   "execution_count": 11,
   "metadata": {},
   "outputs": [],
   "source": [
    "data = pd.read_csv(\"nyt_BuildWallc.csv\") \n",
    "data = data.sort_values(by=['Count'], ascending=False)\n",
    "data = data[:100]\n",
    "data.to_csv('NYT_BUW.csv', index=False)"
   ]
  },
  {
   "cell_type": "code",
   "execution_count": 12,
   "metadata": {},
   "outputs": [],
   "source": [
    "data = pd.read_csv(\"tw_BorderWallc.csv\") \n",
    "data = data.sort_values(by=['Count'], ascending=False)\n",
    "data = data[:100]\n",
    "data.to_csv('TW_BW.csv', index=False)"
   ]
  },
  {
   "cell_type": "code",
   "execution_count": 13,
   "metadata": {},
   "outputs": [],
   "source": [
    "data = pd.read_csv(\"tw_mexicoc.csv\") \n",
    "data = data.sort_values(by=['Count'], ascending=False)\n",
    "data = data[:100]\n",
    "data.to_csv('TW_MB.csv', index=False)"
   ]
  },
  {
   "cell_type": "code",
   "execution_count": null,
   "metadata": {},
   "outputs": [],
   "source": []
  }
 ],
 "metadata": {
  "kernelspec": {
   "display_name": "Python 3",
   "language": "python",
   "name": "python3"
  },
  "language_info": {
   "codemirror_mode": {
    "name": "ipython",
    "version": 3
   },
   "file_extension": ".py",
   "mimetype": "text/x-python",
   "name": "python",
   "nbconvert_exporter": "python",
   "pygments_lexer": "ipython3",
   "version": "3.7.2"
  }
 },
 "nbformat": 4,
 "nbformat_minor": 2
}
